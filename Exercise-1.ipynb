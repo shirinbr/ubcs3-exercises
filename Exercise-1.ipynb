{
 "cells": [
  {
   "cell_type": "markdown",
   "metadata": {},
   "source": [
    "# Exercise 1.\n",
    "\n",
    "## My project:\n",
    "\n",
    "Regarding any current projects, I am not working on a project relating to the material of this workshop namely scientific softwares. I am a PhD student in pure math with very littel experience and knowledge in computer science and programming. However, I am really interested in \n",
    "\n",
    "* get familiar with coding in Python.\n",
    "* learning Python and its application in data analysis and machine learning.\n",
    "* do a data analysis project (even a very simple one).\n",
    "\n",
    "In the recent past, I tried Coursera online course in data analysis [coursera.org](https://www.coursera.org/courses?languages=en&query=data+science). However, I was not able to finish the course as it was so new to me, and I needed more backgound basic knowledge to tackle the projects.\n",
    "\n",
    "Hopefully, this workshop will equip me with the basic ingredients of the scientific softwares mainly in context of data analysis.\n",
    "\n",
    "![finger crossed](http://www.freshcardsgifts.co.uk/images/_lib/fingers-crossed-good-luck-card-3000627-0-1344696616000.jpg)\n",
    "\n"
   ]
  },
  {
   "cell_type": "code",
   "execution_count": null,
   "metadata": {
    "collapsed": true
   },
   "outputs": [],
   "source": []
  }
 ],
 "metadata": {
  "kernelspec": {
   "display_name": "Python 3",
   "language": "python",
   "name": "python3"
  },
  "language_info": {
   "codemirror_mode": {
    "name": "ipython",
    "version": 3
   },
   "file_extension": ".py",
   "mimetype": "text/x-python",
   "name": "python",
   "nbconvert_exporter": "python",
   "pygments_lexer": "ipython3",
   "version": "3.5.1"
  }
 },
 "nbformat": 4,
 "nbformat_minor": 0
}
